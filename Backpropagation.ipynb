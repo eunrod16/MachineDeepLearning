{
 "cells": [
  {
   "cell_type": "code",
   "execution_count": 1,
   "metadata": {},
   "outputs": [],
   "source": [
    "import numpy as np"
   ]
  },
  {
   "cell_type": "code",
   "execution_count": 57,
   "metadata": {},
   "outputs": [
    {
     "data": {
      "text/plain": [
       "array([[0],\n",
       "       [1],\n",
       "       [1],\n",
       "       [0]])"
      ]
     },
     "execution_count": 57,
     "metadata": {},
     "output_type": "execute_result"
    }
   ],
   "source": [
    "x = np.array([[0,0], [0,1], [1,0], [1,1]])\n",
    "y = np.array([[0],[1],[1],[0]])\n",
    "y"
   ]
  },
  {
   "cell_type": "code",
   "execution_count": 4,
   "metadata": {},
   "outputs": [],
   "source": [
    "def sigmoid(x):\n",
    "    return (1/(1+np.exp(-x)))"
   ]
  },
  {
   "cell_type": "code",
   "execution_count": 5,
   "metadata": {},
   "outputs": [],
   "source": [
    "def sigmoidDerivate(x):\n",
    "    return x*(1.0-x)"
   ]
  },
  {
   "cell_type": "code",
   "execution_count": 60,
   "metadata": {},
   "outputs": [],
   "source": [
    "dim,inputs=x.shape\n",
    "hiddens=dim+1\n",
    "dim,outputs=y.shape \n",
    "\n",
    "W1 = np.random.random((inputs, hiddens))\n",
    "W2 = np.random.random((hiddens, outputs))"
   ]
  },
  {
   "cell_type": "code",
   "execution_count": 63,
   "metadata": {},
   "outputs": [
    {
     "data": {
      "text/plain": [
       "array([[0.00458492],\n",
       "       [0.99516972],\n",
       "       [0.99634615],\n",
       "       [0.00485167]])"
      ]
     },
     "execution_count": 63,
     "metadata": {},
     "output_type": "execute_result"
    }
   ],
   "source": [
    "def backpropagation(W1,W2):\n",
    "    itera = 10000\n",
    "    lr = 10\n",
    "    for i in range(itera):\n",
    "        layerHidden = sigmoid(np.dot(x, W1))\n",
    "        layerOutput = sigmoid(np.dot(layerHidden, W2))\n",
    "        #Backpropagation\n",
    "        errorTotal = np.subtract(layerOutput,y)\n",
    "        outputDelta = errorTotal * sigmoidDerivate(layerOutput)\n",
    "        errorLayerHidden = np.dot(outputDelta, W2.T)\n",
    "        hiddenDelta = errorLayerHidden * sigmoidDerivate(layerHidden)   \n",
    "        \n",
    "        W2 = W2- lr * np.dot(layerHidden.T, outputDelta)\n",
    "        W1 = W1- lr * np.dot(x.T, hiddenDelta)\n",
    "    return layerOutput,errorTotal\n",
    "out, error = backpropagation(W1,W2)\n",
    "out"
   ]
  },
  {
   "cell_type": "code",
   "execution_count": null,
   "metadata": {},
   "outputs": [],
   "source": []
  },
  {
   "cell_type": "code",
   "execution_count": null,
   "metadata": {},
   "outputs": [],
   "source": []
  }
 ],
 "metadata": {
  "kernelspec": {
   "display_name": "Python 3",
   "language": "python",
   "name": "python3"
  },
  "language_info": {
   "codemirror_mode": {
    "name": "ipython",
    "version": 3
   },
   "file_extension": ".py",
   "mimetype": "text/x-python",
   "name": "python",
   "nbconvert_exporter": "python",
   "pygments_lexer": "ipython3",
   "version": "3.7.3"
  }
 },
 "nbformat": 4,
 "nbformat_minor": 2
}
