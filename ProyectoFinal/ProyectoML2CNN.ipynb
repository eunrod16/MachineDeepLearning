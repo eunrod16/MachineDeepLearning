{
  "nbformat": 4,
  "nbformat_minor": 0,
  "metadata": {
    "colab": {
      "name": "ProyectoML2CNN.ipynb",
      "provenance": [],
      "collapsed_sections": [],
      "include_colab_link": true
    },
    "kernelspec": {
      "name": "python3",
      "display_name": "Python 3"
    }
  },
  "cells": [
    {
      "cell_type": "markdown",
      "metadata": {
        "id": "view-in-github",
        "colab_type": "text"
      },
      "source": [
        "<a href=\"https://colab.research.google.com/github/eunrod16/MachineDeepLearning/blob/master/ProyectoML2CNN.ipynb\" target=\"_parent\"><img src=\"https://colab.research.google.com/assets/colab-badge.svg\" alt=\"Open In Colab\"/></a>"
      ]
    },
    {
      "cell_type": "code",
      "metadata": {
        "id": "7gs0Wu0ax3Ex",
        "colab_type": "code",
        "colab": {
          "base_uri": "https://localhost:8080/",
          "height": 34
        },
        "outputId": "634962df-31f6-4ba0-f427-1976755a7b40"
      },
      "source": [
        "from google.colab import drive\n",
        "drive.mount('/content/drive')"
      ],
      "execution_count": 1,
      "outputs": [
        {
          "output_type": "stream",
          "text": [
            "Drive already mounted at /content/drive; to attempt to forcibly remount, call drive.mount(\"/content/drive\", force_remount=True).\n"
          ],
          "name": "stdout"
        }
      ]
    },
    {
      "cell_type": "code",
      "metadata": {
        "id": "oXWhSITFtn9D",
        "colab_type": "code",
        "colab": {}
      },
      "source": [
        "import numpy as np\n",
        "import pandas as pd\n",
        "import matplotlib.pyplot as plt"
      ],
      "execution_count": 0,
      "outputs": []
    },
    {
      "cell_type": "markdown",
      "metadata": {
        "id": "SDqgPrHp0RFP",
        "colab_type": "text"
      },
      "source": [
        "## Data Clasificación Personajes de Simpsons\n"
      ]
    },
    {
      "cell_type": "code",
      "metadata": {
        "id": "mpFr_-65xyNt",
        "colab_type": "code",
        "colab": {
          "base_uri": "https://localhost:8080/",
          "height": 34
        },
        "outputId": "c1edb457-37d4-40a0-af99-f21fd7231b2c"
      },
      "source": [
        "import torch  \n",
        "import torch.nn as nn \n",
        "import torch.optim as optim \n",
        "import torch.nn.functional as F \n",
        "import torchvision \n",
        "import torchvision.transforms as transforms \n",
        "import torchvision.datasets as dset\n",
        "from torch.utils import data as D\n",
        "torch.set_printoptions(linewidth=120)\n",
        "\n",
        "transform = transforms.Compose(\n",
        "    [transforms.Resize((60,60)),\n",
        "     transforms.ToTensor(),\n",
        "     transforms.Normalize((0.5, 0.5, 0.5), (0.5, 0.5, 0.5))])\n",
        "\n",
        "data = dset.ImageFolder(root=\"/content/drive/My Drive/data/simpsons_dataset\",transform=transform)\n",
        "dataloader = torch.utils.data.DataLoader(data, batch_size=16,shuffle=True,num_workers=2)\n",
        "\"\"\"dataiter = iter(dataloader)\n",
        "images, labels = dataiter.next()\"\"\"\n",
        "\n",
        "len(data.classes)"
      ],
      "execution_count": 3,
      "outputs": [
        {
          "output_type": "execute_result",
          "data": {
            "text/plain": [
              "42"
            ]
          },
          "metadata": {
            "tags": []
          },
          "execution_count": 3
        }
      ]
    },
    {
      "cell_type": "code",
      "metadata": {
        "id": "vGEd_3Xpyrh8",
        "colab_type": "code",
        "colab": {}
      },
      "source": [
        "data.len=len(data)\n",
        "train_len = int(0.7*data.len)\n",
        "test_len = data.len - train_len\n",
        "train_data, test_data = D.random_split(data, lengths=[train_len, test_len])\n",
        "#from sklearn.model_selection import train_test_split\n",
        "#x_train, x_test, y_train, y_test = train_test_split(x_train, y_train, test_size = 0.25, random_state = 1)\n",
        "train_loader = torch.utils.data.DataLoader(train_data,batch_size=500,shuffle=True)"
      ],
      "execution_count": 0,
      "outputs": []
    },
    {
      "cell_type": "code",
      "metadata": {
        "id": "8-ULdCAsy6vo",
        "colab_type": "code",
        "colab": {}
      },
      "source": [
        "class CNN(nn.Module):\n",
        "    def __init__(self):\n",
        "        super().__init__()\n",
        "        self.conv1 = nn.Conv2d(in_channels=3, out_channels=16, kernel_size=5, stride=1, padding=2)\n",
        "        self.conv2 = nn.Conv2d(in_channels=16, out_channels=32, kernel_size=5, stride=1, padding=2)\n",
        "        self.h1 = nn.Linear(in_features=32 * 15 * 15, out_features=200)\n",
        "        self.h2 = nn.Linear(in_features=200, out_features=90)\n",
        "        self.out = nn.Linear(in_features=90, out_features=42)\n",
        "        \n",
        "    def forward(self, x):\n",
        "        # convolutional layer\n",
        "        x = self.conv1(x)\n",
        "        x = F.max_pool2d(F.relu(x), kernel_size=2,stride=2)\n",
        "\n",
        "        # convolutional layer\n",
        "        x = self.conv2(x)\n",
        "        x = F.max_pool2d(F.relu(x), kernel_size=2,stride=2)\n",
        "\n",
        "        # hiddens layer\n",
        "        x = x.reshape(-1, 32 * 15 * 15)\n",
        "        x = F.relu(self.h1(x))\n",
        "        x = F.relu(self.h2(x))\n",
        "        return self.out(x)"
      ],
      "execution_count": 0,
      "outputs": []
    },
    {
      "cell_type": "code",
      "metadata": {
        "id": "U8NUQokHy7VI",
        "colab_type": "code",
        "colab": {}
      },
      "source": [
        "\n",
        "def correctas(y_hat, labels):\n",
        "    return y_hat.argmax(dim=1).eq(labels).sum().item()\n"
      ],
      "execution_count": 0,
      "outputs": []
    },
    {
      "cell_type": "code",
      "metadata": {
        "id": "74bJJkz_zQxx",
        "colab_type": "code",
        "colab": {
          "base_uri": "https://localhost:8080/",
          "height": 1000
        },
        "outputId": "319cffc8-4cdf-4fc1-fac6-95f6e2d9c159"
      },
      "source": [
        "device = torch.device(\"cuda:0\" if torch.cuda.is_available() else \"cpu\")\n",
        "model = CNN()\n",
        "model.to(device)\n",
        "optimizer = optim.Adam(model.parameters(), lr=0.001)\n",
        "errores = []\n",
        "epochs = 20\n",
        "for epoch in range(epochs):\n",
        "\n",
        "    totalCorrectas = 0\n",
        "    batch = 0\n",
        "    for images, labels in train_loader: \n",
        "        \n",
        "        images = images.to(device)\n",
        "        labels = labels.to(device)\n",
        "        \n",
        "        y_hat = model(images)\n",
        "        loss = F.cross_entropy(y_hat, labels) \n",
        "\n",
        "        optimizer.zero_grad()\n",
        "        loss.backward() \n",
        "        optimizer.step()\n",
        "        totalCorrectas += correctas(y_hat, labels)\n",
        "        errores.append(loss.item())\n",
        "        print(\"Epoch:\", epoch, \"Batch:\", batch ,\"Correctas:\", correctas(y_hat, labels), \"Loss:\", loss.item())\n",
        "    print(\"Total de Correctas:\",totalCorrectas)"
      ],
      "execution_count": 7,
      "outputs": [
        {
          "output_type": "stream",
          "text": [
            "Epoch: 0 Batch: 0 Correctas: 48 Loss: 3.7321176528930664\n",
            "Epoch: 0 Batch: 0 Correctas: 108 Loss: 3.5545945167541504\n",
            "Epoch: 0 Batch: 0 Correctas: 104 Loss: 3.2609591484069824\n",
            "Epoch: 0 Batch: 0 Correctas: 105 Loss: 3.133258581161499\n",
            "Epoch: 0 Batch: 0 Correctas: 109 Loss: 2.905773878097534\n",
            "Epoch: 0 Batch: 0 Correctas: 102 Loss: 2.7712042331695557\n",
            "Epoch: 0 Batch: 0 Correctas: 88 Loss: 2.709794282913208\n",
            "Epoch: 0 Batch: 0 Correctas: 76 Loss: 2.590338706970215\n",
            "Epoch: 0 Batch: 0 Correctas: 70 Loss: 2.4585468769073486\n",
            "Epoch: 0 Batch: 0 Correctas: 55 Loss: 2.457970380783081\n",
            "Epoch: 0 Batch: 0 Correctas: 104 Loss: 2.414717197418213\n",
            "Epoch: 0 Batch: 0 Correctas: 97 Loss: 2.4567272663116455\n",
            "Epoch: 0 Batch: 0 Correctas: 141 Loss: 2.3311290740966797\n",
            "Epoch: 0 Batch: 0 Correctas: 27 Loss: 2.431762933731079\n",
            "Total de Correctas: 1403\n",
            "Epoch: 1 Batch: 0 Correctas: 104 Loss: 2.2574849128723145\n",
            "Epoch: 1 Batch: 0 Correctas: 126 Loss: 2.267388105392456\n",
            "Epoch: 1 Batch: 0 Correctas: 151 Loss: 2.190566301345825\n",
            "Epoch: 1 Batch: 0 Correctas: 150 Loss: 2.117967128753662\n",
            "Epoch: 1 Batch: 0 Correctas: 150 Loss: 2.147622585296631\n",
            "Epoch: 1 Batch: 0 Correctas: 146 Loss: 2.115712881088257\n",
            "Epoch: 1 Batch: 0 Correctas: 194 Loss: 2.0370829105377197\n",
            "Epoch: 1 Batch: 0 Correctas: 183 Loss: 2.049287796020508\n",
            "Epoch: 1 Batch: 0 Correctas: 188 Loss: 1.9823377132415771\n",
            "Epoch: 1 Batch: 0 Correctas: 188 Loss: 2.0353710651397705\n",
            "Epoch: 1 Batch: 0 Correctas: 203 Loss: 1.885689616203308\n",
            "Epoch: 1 Batch: 0 Correctas: 184 Loss: 2.0093088150024414\n",
            "Epoch: 1 Batch: 0 Correctas: 211 Loss: 1.8713864088058472\n",
            "Epoch: 1 Batch: 0 Correctas: 212 Loss: 1.8276337385177612\n",
            "Epoch: 1 Batch: 0 Correctas: 39 Loss: 1.7853968143463135\n",
            "Total de Correctas: 2550\n",
            "Epoch: 2 Batch: 0 Correctas: 200 Loss: 1.8582828044891357\n",
            "Epoch: 2 Batch: 0 Correctas: 226 Loss: 1.6893080472946167\n",
            "Epoch: 2 Batch: 0 Correctas: 244 Loss: 1.7926256656646729\n",
            "Epoch: 2 Batch: 0 Correctas: 208 Loss: 1.866844654083252\n",
            "Epoch: 2 Batch: 0 Correctas: 224 Loss: 1.7298345565795898\n",
            "Epoch: 2 Batch: 0 Correctas: 234 Loss: 1.7490780353546143\n",
            "Epoch: 2 Batch: 0 Correctas: 226 Loss: 1.698932409286499\n",
            "Epoch: 2 Batch: 0 Correctas: 221 Loss: 1.5786365270614624\n",
            "Epoch: 2 Batch: 0 Correctas: 237 Loss: 1.601784348487854\n",
            "Epoch: 2 Batch: 0 Correctas: 235 Loss: 1.6342600584030151\n",
            "Epoch: 2 Batch: 0 Correctas: 250 Loss: 1.6059527397155762\n",
            "Epoch: 2 Batch: 0 Correctas: 262 Loss: 1.565660834312439\n",
            "Epoch: 2 Batch: 0 Correctas: 246 Loss: 1.6052933931350708\n",
            "Epoch: 2 Batch: 0 Correctas: 230 Loss: 1.7415239810943604\n",
            "Epoch: 2 Batch: 0 Correctas: 263 Loss: 1.5720032453536987\n",
            "Epoch: 2 Batch: 0 Correctas: 46 Loss: 1.6083372831344604\n",
            "Total de Correctas: 3552\n",
            "Epoch: 3 Batch: 0 Correctas: 276 Loss: 1.5061897039413452\n",
            "Epoch: 3 Batch: 0 Correctas: 249 Loss: 1.5839499235153198\n",
            "Epoch: 3 Batch: 0 Correctas: 256 Loss: 1.5678740739822388\n",
            "Epoch: 3 Batch: 0 Correctas: 240 Loss: 1.5832489728927612\n",
            "Epoch: 3 Batch: 0 Correctas: 271 Loss: 1.426918625831604\n",
            "Epoch: 3 Batch: 0 Correctas: 273 Loss: 1.46327805519104\n",
            "Epoch: 3 Batch: 0 Correctas: 279 Loss: 1.4669630527496338\n",
            "Epoch: 3 Batch: 0 Correctas: 263 Loss: 1.48524808883667\n",
            "Epoch: 3 Batch: 0 Correctas: 296 Loss: 1.295596718788147\n",
            "Epoch: 3 Batch: 0 Correctas: 288 Loss: 1.4047425985336304\n",
            "Epoch: 3 Batch: 0 Correctas: 289 Loss: 1.3609814643859863\n",
            "Epoch: 3 Batch: 0 Correctas: 271 Loss: 1.434367299079895\n",
            "Epoch: 3 Batch: 0 Correctas: 288 Loss: 1.3922131061553955\n",
            "Epoch: 3 Batch: 0 Correctas: 278 Loss: 1.4221203327178955\n",
            "Epoch: 3 Batch: 0 Correctas: 267 Loss: 1.44768226146698\n",
            "Epoch: 3 Batch: 0 Correctas: 54 Loss: 1.3862884044647217\n",
            "Total de Correctas: 4138\n",
            "Epoch: 4 Batch: 0 Correctas: 280 Loss: 1.3697996139526367\n",
            "Epoch: 4 Batch: 0 Correctas: 294 Loss: 1.3324363231658936\n",
            "Epoch: 4 Batch: 0 Correctas: 316 Loss: 1.2646572589874268\n",
            "Epoch: 4 Batch: 0 Correctas: 281 Loss: 1.4162427186965942\n",
            "Epoch: 4 Batch: 0 Correctas: 307 Loss: 1.2824546098709106\n",
            "Epoch: 4 Batch: 0 Correctas: 278 Loss: 1.3594818115234375\n",
            "Epoch: 4 Batch: 0 Correctas: 291 Loss: 1.3062410354614258\n",
            "Epoch: 4 Batch: 0 Correctas: 290 Loss: 1.333675503730774\n",
            "Epoch: 4 Batch: 0 Correctas: 270 Loss: 1.3947186470031738\n",
            "Epoch: 4 Batch: 0 Correctas: 280 Loss: 1.3008676767349243\n",
            "Epoch: 4 Batch: 0 Correctas: 299 Loss: 1.2587722539901733\n",
            "Epoch: 4 Batch: 0 Correctas: 283 Loss: 1.3791990280151367\n",
            "Epoch: 4 Batch: 0 Correctas: 301 Loss: 1.2001787424087524\n",
            "Epoch: 4 Batch: 0 Correctas: 306 Loss: 1.255265235900879\n",
            "Epoch: 4 Batch: 0 Correctas: 308 Loss: 1.2220311164855957\n",
            "Epoch: 4 Batch: 0 Correctas: 57 Loss: 1.2847936153411865\n",
            "Total de Correctas: 4441\n",
            "Epoch: 5 Batch: 0 Correctas: 309 Loss: 1.2258490324020386\n",
            "Epoch: 5 Batch: 0 Correctas: 298 Loss: 1.2493643760681152\n",
            "Epoch: 5 Batch: 0 Correctas: 303 Loss: 1.2208914756774902\n",
            "Epoch: 5 Batch: 0 Correctas: 329 Loss: 1.0899467468261719\n",
            "Epoch: 5 Batch: 0 Correctas: 327 Loss: 1.089079737663269\n",
            "Epoch: 5 Batch: 0 Correctas: 297 Loss: 1.2467581033706665\n",
            "Epoch: 5 Batch: 0 Correctas: 308 Loss: 1.251694679260254\n",
            "Epoch: 5 Batch: 0 Correctas: 291 Loss: 1.3174710273742676\n",
            "Epoch: 5 Batch: 0 Correctas: 311 Loss: 1.2314034700393677\n",
            "Epoch: 5 Batch: 0 Correctas: 328 Loss: 1.1521354913711548\n",
            "Epoch: 5 Batch: 0 Correctas: 320 Loss: 1.088311791419983\n",
            "Epoch: 5 Batch: 0 Correctas: 312 Loss: 1.211156964302063\n",
            "Epoch: 5 Batch: 0 Correctas: 338 Loss: 1.074079990386963\n",
            "Epoch: 5 Batch: 0 Correctas: 314 Loss: 1.2016363143920898\n",
            "Epoch: 5 Batch: 0 Correctas: 293 Loss: 1.217402696609497\n",
            "Epoch: 5 Batch: 0 Correctas: 54 Loss: 1.2268935441970825\n",
            "Total de Correctas: 4732\n",
            "Epoch: 6 Batch: 0 Correctas: 324 Loss: 1.1711273193359375\n",
            "Epoch: 6 Batch: 0 Correctas: 310 Loss: 1.157733678817749\n",
            "Epoch: 6 Batch: 0 Correctas: 321 Loss: 1.118315577507019\n",
            "Epoch: 6 Batch: 0 Correctas: 325 Loss: 1.1389182806015015\n",
            "Epoch: 6 Batch: 0 Correctas: 337 Loss: 1.0516958236694336\n",
            "Epoch: 6 Batch: 0 Correctas: 334 Loss: 1.0941462516784668\n",
            "Epoch: 6 Batch: 0 Correctas: 315 Loss: 1.171700119972229\n",
            "Epoch: 6 Batch: 0 Correctas: 339 Loss: 1.0623526573181152\n",
            "Epoch: 6 Batch: 0 Correctas: 324 Loss: 1.1754709482192993\n",
            "Epoch: 6 Batch: 0 Correctas: 333 Loss: 1.0971074104309082\n",
            "Epoch: 6 Batch: 0 Correctas: 324 Loss: 1.118942141532898\n",
            "Epoch: 6 Batch: 0 Correctas: 322 Loss: 1.0419600009918213\n",
            "Epoch: 6 Batch: 0 Correctas: 322 Loss: 1.1036816835403442\n",
            "Epoch: 6 Batch: 0 Correctas: 339 Loss: 1.0903443098068237\n",
            "Epoch: 6 Batch: 0 Correctas: 349 Loss: 1.020114779472351\n",
            "Epoch: 6 Batch: 0 Correctas: 61 Loss: 1.0990355014801025\n",
            "Total de Correctas: 4979\n",
            "Epoch: 7 Batch: 0 Correctas: 341 Loss: 1.1051337718963623\n",
            "Epoch: 7 Batch: 0 Correctas: 338 Loss: 1.0262856483459473\n",
            "Epoch: 7 Batch: 0 Correctas: 346 Loss: 0.9953394532203674\n",
            "Epoch: 7 Batch: 0 Correctas: 340 Loss: 0.9699673652648926\n",
            "Epoch: 7 Batch: 0 Correctas: 322 Loss: 1.0499391555786133\n",
            "Epoch: 7 Batch: 0 Correctas: 316 Loss: 1.109302282333374\n",
            "Epoch: 7 Batch: 0 Correctas: 344 Loss: 0.9720274806022644\n",
            "Epoch: 7 Batch: 0 Correctas: 339 Loss: 1.0086313486099243\n",
            "Epoch: 7 Batch: 0 Correctas: 353 Loss: 0.9226176738739014\n",
            "Epoch: 7 Batch: 0 Correctas: 320 Loss: 1.125180959701538\n",
            "Epoch: 7 Batch: 0 Correctas: 343 Loss: 0.9724957346916199\n",
            "Epoch: 7 Batch: 0 Correctas: 348 Loss: 0.935453474521637\n",
            "Epoch: 7 Batch: 0 Correctas: 334 Loss: 0.9989088177680969\n",
            "Epoch: 7 Batch: 0 Correctas: 332 Loss: 1.0807163715362549\n",
            "Epoch: 7 Batch: 0 Correctas: 343 Loss: 0.9911475777626038\n",
            "Epoch: 7 Batch: 0 Correctas: 64 Loss: 1.0599064826965332\n",
            "Total de Correctas: 5123\n",
            "Epoch: 8 Batch: 0 Correctas: 360 Loss: 0.9230555295944214\n",
            "Epoch: 8 Batch: 0 Correctas: 346 Loss: 1.0017321109771729\n",
            "Epoch: 8 Batch: 0 Correctas: 356 Loss: 0.9507179856300354\n",
            "Epoch: 8 Batch: 0 Correctas: 358 Loss: 0.90088951587677\n",
            "Epoch: 8 Batch: 0 Correctas: 365 Loss: 0.8852606415748596\n",
            "Epoch: 8 Batch: 0 Correctas: 355 Loss: 0.9478440284729004\n",
            "Epoch: 8 Batch: 0 Correctas: 369 Loss: 0.8663524389266968\n",
            "Epoch: 8 Batch: 0 Correctas: 350 Loss: 0.9503178000450134\n",
            "Epoch: 8 Batch: 0 Correctas: 321 Loss: 0.9891641139984131\n",
            "Epoch: 8 Batch: 0 Correctas: 355 Loss: 0.9627309441566467\n",
            "Epoch: 8 Batch: 0 Correctas: 353 Loss: 0.913978636264801\n",
            "Epoch: 8 Batch: 0 Correctas: 355 Loss: 0.8906249403953552\n",
            "Epoch: 8 Batch: 0 Correctas: 346 Loss: 0.9178130626678467\n",
            "Epoch: 8 Batch: 0 Correctas: 334 Loss: 1.0245625972747803\n",
            "Epoch: 8 Batch: 0 Correctas: 342 Loss: 0.9740326404571533\n",
            "Epoch: 8 Batch: 0 Correctas: 63 Loss: 1.1847413778305054\n",
            "Total de Correctas: 5328\n",
            "Epoch: 9 Batch: 0 Correctas: 356 Loss: 0.905714750289917\n",
            "Epoch: 9 Batch: 0 Correctas: 347 Loss: 0.9508273601531982\n",
            "Epoch: 9 Batch: 0 Correctas: 340 Loss: 1.0082188844680786\n",
            "Epoch: 9 Batch: 0 Correctas: 366 Loss: 0.8509329557418823\n",
            "Epoch: 9 Batch: 0 Correctas: 345 Loss: 0.9294993281364441\n",
            "Epoch: 9 Batch: 0 Correctas: 354 Loss: 0.8801530003547668\n",
            "Epoch: 9 Batch: 0 Correctas: 350 Loss: 0.9411805272102356\n",
            "Epoch: 9 Batch: 0 Correctas: 372 Loss: 0.82750403881073\n",
            "Epoch: 9 Batch: 0 Correctas: 347 Loss: 0.9364790916442871\n",
            "Epoch: 9 Batch: 0 Correctas: 361 Loss: 0.8425875306129456\n",
            "Epoch: 9 Batch: 0 Correctas: 359 Loss: 0.8380363583564758\n",
            "Epoch: 9 Batch: 0 Correctas: 355 Loss: 0.8380641937255859\n",
            "Epoch: 9 Batch: 0 Correctas: 357 Loss: 0.8432822227478027\n",
            "Epoch: 9 Batch: 0 Correctas: 363 Loss: 0.8877984285354614\n",
            "Epoch: 9 Batch: 0 Correctas: 370 Loss: 0.8153547644615173\n",
            "Epoch: 9 Batch: 0 Correctas: 64 Loss: 0.9858910441398621\n",
            "Total de Correctas: 5406\n",
            "Epoch: 10 Batch: 0 Correctas: 376 Loss: 0.7820144891738892\n",
            "Epoch: 10 Batch: 0 Correctas: 375 Loss: 0.8090477585792542\n",
            "Epoch: 10 Batch: 0 Correctas: 369 Loss: 0.7969366312026978\n",
            "Epoch: 10 Batch: 0 Correctas: 389 Loss: 0.7689678072929382\n",
            "Epoch: 10 Batch: 0 Correctas: 380 Loss: 0.7389988899230957\n",
            "Epoch: 10 Batch: 0 Correctas: 387 Loss: 0.7363889217376709\n",
            "Epoch: 10 Batch: 0 Correctas: 365 Loss: 0.7704974412918091\n",
            "Epoch: 10 Batch: 0 Correctas: 359 Loss: 0.8148535490036011\n",
            "Epoch: 10 Batch: 0 Correctas: 379 Loss: 0.7885103225708008\n",
            "Epoch: 10 Batch: 0 Correctas: 366 Loss: 0.864668607711792\n",
            "Epoch: 10 Batch: 0 Correctas: 377 Loss: 0.7788906693458557\n",
            "Epoch: 10 Batch: 0 Correctas: 359 Loss: 0.8234293460845947\n",
            "Epoch: 10 Batch: 0 Correctas: 379 Loss: 0.7283885478973389\n",
            "Epoch: 10 Batch: 0 Correctas: 367 Loss: 0.8851343393325806\n",
            "Epoch: 10 Batch: 0 Correctas: 62 Loss: 1.1090201139450073\n",
            "Total de Correctas: 5665\n",
            "Epoch: 11 Batch: 0 Correctas: 373 Loss: 0.763981819152832\n",
            "Epoch: 11 Batch: 0 Correctas: 370 Loss: 0.7612919211387634\n",
            "Epoch: 11 Batch: 0 Correctas: 371 Loss: 0.7967564463615417\n",
            "Epoch: 11 Batch: 0 Correctas: 378 Loss: 0.7326908707618713\n",
            "Epoch: 11 Batch: 0 Correctas: 392 Loss: 0.6856775879859924\n",
            "Epoch: 11 Batch: 0 Correctas: 370 Loss: 0.798022449016571\n",
            "Epoch: 11 Batch: 0 Correctas: 399 Loss: 0.6447409987449646\n",
            "Epoch: 11 Batch: 0 Correctas: 383 Loss: 0.7434819340705872\n",
            "Epoch: 11 Batch: 0 Correctas: 379 Loss: 0.7414314150810242\n",
            "Epoch: 11 Batch: 0 Correctas: 391 Loss: 0.6686245203018188\n",
            "Epoch: 11 Batch: 0 Correctas: 366 Loss: 0.8204659223556519\n",
            "Epoch: 11 Batch: 0 Correctas: 378 Loss: 0.7699628472328186\n",
            "Epoch: 11 Batch: 0 Correctas: 367 Loss: 0.7861856818199158\n",
            "Epoch: 11 Batch: 0 Correctas: 389 Loss: 0.6539490222930908\n",
            "Epoch: 11 Batch: 0 Correctas: 378 Loss: 0.7662379145622253\n",
            "Epoch: 11 Batch: 0 Correctas: 78 Loss: 0.6400426626205444\n",
            "Total de Correctas: 5762\n",
            "Epoch: 12 Batch: 0 Correctas: 390 Loss: 0.6554955244064331\n",
            "Epoch: 12 Batch: 0 Correctas: 393 Loss: 0.6710200905799866\n",
            "Epoch: 12 Batch: 0 Correctas: 399 Loss: 0.6464081406593323\n",
            "Epoch: 12 Batch: 0 Correctas: 384 Loss: 0.6757575273513794\n",
            "Epoch: 12 Batch: 0 Correctas: 402 Loss: 0.6278721690177917\n",
            "Epoch: 12 Batch: 0 Correctas: 400 Loss: 0.653409481048584\n",
            "Epoch: 12 Batch: 0 Correctas: 390 Loss: 0.6110165119171143\n",
            "Epoch: 12 Batch: 0 Correctas: 382 Loss: 0.6373163461685181\n",
            "Epoch: 12 Batch: 0 Correctas: 401 Loss: 0.6550770401954651\n",
            "Epoch: 12 Batch: 0 Correctas: 379 Loss: 0.7168238759040833\n",
            "Epoch: 12 Batch: 0 Correctas: 389 Loss: 0.6694360375404358\n",
            "Epoch: 12 Batch: 0 Correctas: 422 Loss: 0.5563671588897705\n",
            "Epoch: 12 Batch: 0 Correctas: 396 Loss: 0.6592428684234619\n",
            "Epoch: 12 Batch: 0 Correctas: 407 Loss: 0.6107949614524841\n",
            "Epoch: 12 Batch: 0 Correctas: 394 Loss: 0.6755934953689575\n",
            "Epoch: 12 Batch: 0 Correctas: 74 Loss: 0.6723219156265259\n",
            "Total de Correctas: 6002\n",
            "Epoch: 13 Batch: 0 Correctas: 406 Loss: 0.5815653800964355\n",
            "Epoch: 13 Batch: 0 Correctas: 398 Loss: 0.594880223274231\n",
            "Epoch: 13 Batch: 0 Correctas: 419 Loss: 0.4968815743923187\n",
            "Epoch: 13 Batch: 0 Correctas: 403 Loss: 0.5690832138061523\n",
            "Epoch: 13 Batch: 0 Correctas: 412 Loss: 0.5479235649108887\n",
            "Epoch: 13 Batch: 0 Correctas: 401 Loss: 0.6166396141052246\n",
            "Epoch: 13 Batch: 0 Correctas: 405 Loss: 0.575905442237854\n",
            "Epoch: 13 Batch: 0 Correctas: 395 Loss: 0.6162286996841431\n",
            "Epoch: 13 Batch: 0 Correctas: 402 Loss: 0.6234036087989807\n",
            "Epoch: 13 Batch: 0 Correctas: 412 Loss: 0.5461124777793884\n",
            "Epoch: 13 Batch: 0 Correctas: 426 Loss: 0.5650847554206848\n",
            "Epoch: 13 Batch: 0 Correctas: 424 Loss: 0.530014157295227\n",
            "Epoch: 13 Batch: 0 Correctas: 410 Loss: 0.5874984860420227\n",
            "Epoch: 13 Batch: 0 Correctas: 412 Loss: 0.5467581152915955\n",
            "Epoch: 13 Batch: 0 Correctas: 404 Loss: 0.6311031579971313\n",
            "Epoch: 13 Batch: 0 Correctas: 79 Loss: 0.6330451369285583\n",
            "Total de Correctas: 6208\n",
            "Epoch: 14 Batch: 0 Correctas: 412 Loss: 0.5561156272888184\n",
            "Epoch: 14 Batch: 0 Correctas: 423 Loss: 0.4766499102115631\n",
            "Epoch: 14 Batch: 0 Correctas: 423 Loss: 0.45606982707977295\n",
            "Epoch: 14 Batch: 0 Correctas: 419 Loss: 0.5131761431694031\n",
            "Epoch: 14 Batch: 0 Correctas: 426 Loss: 0.4726174473762512\n",
            "Epoch: 14 Batch: 0 Correctas: 439 Loss: 0.43895965814590454\n",
            "Epoch: 14 Batch: 0 Correctas: 424 Loss: 0.4240309000015259\n",
            "Epoch: 14 Batch: 0 Correctas: 423 Loss: 0.4855477809906006\n",
            "Epoch: 14 Batch: 0 Correctas: 412 Loss: 0.524345874786377\n",
            "Epoch: 14 Batch: 0 Correctas: 416 Loss: 0.514378547668457\n",
            "Epoch: 14 Batch: 0 Correctas: 417 Loss: 0.5011388063430786\n",
            "Epoch: 14 Batch: 0 Correctas: 409 Loss: 0.4967974126338959\n",
            "Epoch: 14 Batch: 0 Correctas: 421 Loss: 0.5245896577835083\n",
            "Epoch: 14 Batch: 0 Correctas: 423 Loss: 0.48649969696998596\n",
            "Epoch: 14 Batch: 0 Correctas: 418 Loss: 0.5812254548072815\n",
            "Epoch: 14 Batch: 0 Correctas: 73 Loss: 0.7278422713279724\n",
            "Total de Correctas: 6378\n",
            "Epoch: 15 Batch: 0 Correctas: 432 Loss: 0.45005813241004944\n",
            "Epoch: 15 Batch: 0 Correctas: 450 Loss: 0.38207751512527466\n",
            "Epoch: 15 Batch: 0 Correctas: 417 Loss: 0.461164265871048\n",
            "Epoch: 15 Batch: 0 Correctas: 433 Loss: 0.39969536662101746\n",
            "Epoch: 15 Batch: 0 Correctas: 431 Loss: 0.440664142370224\n",
            "Epoch: 15 Batch: 0 Correctas: 429 Loss: 0.49073582887649536\n",
            "Epoch: 15 Batch: 0 Correctas: 436 Loss: 0.4127923250198364\n",
            "Epoch: 15 Batch: 0 Correctas: 424 Loss: 0.49477311968803406\n",
            "Epoch: 15 Batch: 0 Correctas: 437 Loss: 0.4372527599334717\n",
            "Epoch: 15 Batch: 0 Correctas: 433 Loss: 0.4378594160079956\n",
            "Epoch: 15 Batch: 0 Correctas: 428 Loss: 0.47872358560562134\n",
            "Epoch: 15 Batch: 0 Correctas: 422 Loss: 0.4503217935562134\n",
            "Epoch: 15 Batch: 0 Correctas: 428 Loss: 0.4612705707550049\n",
            "Epoch: 15 Batch: 0 Correctas: 432 Loss: 0.45198699831962585\n",
            "Epoch: 15 Batch: 0 Correctas: 431 Loss: 0.44756338000297546\n",
            "Epoch: 15 Batch: 0 Correctas: 87 Loss: 0.3211005926132202\n",
            "Total de Correctas: 6550\n",
            "Epoch: 16 Batch: 0 Correctas: 439 Loss: 0.40755218267440796\n",
            "Epoch: 16 Batch: 0 Correctas: 437 Loss: 0.3559407591819763\n",
            "Epoch: 16 Batch: 0 Correctas: 440 Loss: 0.3788067400455475\n",
            "Epoch: 16 Batch: 0 Correctas: 446 Loss: 0.38025519251823425\n",
            "Epoch: 16 Batch: 0 Correctas: 445 Loss: 0.38737785816192627\n",
            "Epoch: 16 Batch: 0 Correctas: 463 Loss: 0.28111696243286133\n",
            "Epoch: 16 Batch: 0 Correctas: 435 Loss: 0.4238004684448242\n",
            "Epoch: 16 Batch: 0 Correctas: 435 Loss: 0.4194975197315216\n",
            "Epoch: 16 Batch: 0 Correctas: 444 Loss: 0.3761698305606842\n",
            "Epoch: 16 Batch: 0 Correctas: 423 Loss: 0.450570285320282\n",
            "Epoch: 16 Batch: 0 Correctas: 435 Loss: 0.4248640537261963\n",
            "Epoch: 16 Batch: 0 Correctas: 432 Loss: 0.4262305498123169\n",
            "Epoch: 16 Batch: 0 Correctas: 429 Loss: 0.45649439096450806\n",
            "Epoch: 16 Batch: 0 Correctas: 435 Loss: 0.41968047618865967\n",
            "Epoch: 16 Batch: 0 Correctas: 443 Loss: 0.3516489565372467\n",
            "Epoch: 16 Batch: 0 Correctas: 86 Loss: 0.24819666147232056\n",
            "Total de Correctas: 6667\n",
            "Epoch: 17 Batch: 0 Correctas: 440 Loss: 0.3942555785179138\n",
            "Epoch: 17 Batch: 0 Correctas: 447 Loss: 0.3170193135738373\n",
            "Epoch: 17 Batch: 0 Correctas: 443 Loss: 0.37708625197410583\n",
            "Epoch: 17 Batch: 0 Correctas: 461 Loss: 0.2983095943927765\n",
            "Epoch: 17 Batch: 0 Correctas: 442 Loss: 0.35806313157081604\n",
            "Epoch: 17 Batch: 0 Correctas: 434 Loss: 0.4421519637107849\n",
            "Epoch: 17 Batch: 0 Correctas: 450 Loss: 0.3204564154148102\n",
            "Epoch: 17 Batch: 0 Correctas: 427 Loss: 0.4370187819004059\n",
            "Epoch: 17 Batch: 0 Correctas: 436 Loss: 0.38867732882499695\n",
            "Epoch: 17 Batch: 0 Correctas: 452 Loss: 0.3598725199699402\n",
            "Epoch: 17 Batch: 0 Correctas: 434 Loss: 0.35558050870895386\n",
            "Epoch: 17 Batch: 0 Correctas: 446 Loss: 0.35160303115844727\n",
            "Epoch: 17 Batch: 0 Correctas: 453 Loss: 0.3134761452674866\n",
            "Epoch: 17 Batch: 0 Correctas: 438 Loss: 0.4013456702232361\n",
            "Epoch: 17 Batch: 0 Correctas: 431 Loss: 0.4239160716533661\n",
            "Epoch: 17 Batch: 0 Correctas: 82 Loss: 0.37361153960227966\n",
            "Total de Correctas: 6716\n",
            "Epoch: 18 Batch: 0 Correctas: 446 Loss: 0.27798229455947876\n",
            "Epoch: 18 Batch: 0 Correctas: 434 Loss: 0.35065552592277527\n",
            "Epoch: 18 Batch: 0 Correctas: 456 Loss: 0.27921903133392334\n",
            "Epoch: 18 Batch: 0 Correctas: 446 Loss: 0.3173404633998871\n",
            "Epoch: 18 Batch: 0 Correctas: 431 Loss: 0.3963206708431244\n",
            "Epoch: 18 Batch: 0 Correctas: 439 Loss: 0.3596656620502472\n",
            "Epoch: 18 Batch: 0 Correctas: 462 Loss: 0.3065015375614166\n",
            "Epoch: 18 Batch: 0 Correctas: 436 Loss: 0.3966003656387329\n",
            "Epoch: 18 Batch: 0 Correctas: 452 Loss: 0.31928467750549316\n",
            "Epoch: 18 Batch: 0 Correctas: 452 Loss: 0.2981199026107788\n",
            "Epoch: 18 Batch: 0 Correctas: 439 Loss: 0.3505321145057678\n",
            "Epoch: 18 Batch: 0 Correctas: 462 Loss: 0.29555243253707886\n",
            "Epoch: 18 Batch: 0 Correctas: 457 Loss: 0.3410700857639313\n",
            "Epoch: 18 Batch: 0 Correctas: 438 Loss: 0.3493839502334595\n",
            "Epoch: 18 Batch: 0 Correctas: 454 Loss: 0.27598896622657776\n",
            "Epoch: 18 Batch: 0 Correctas: 80 Loss: 0.373363196849823\n",
            "Total de Correctas: 6784\n",
            "Epoch: 19 Batch: 0 Correctas: 462 Loss: 0.23516042530536652\n",
            "Epoch: 19 Batch: 0 Correctas: 453 Loss: 0.30146369338035583\n",
            "Epoch: 19 Batch: 0 Correctas: 457 Loss: 0.2799529433250427\n",
            "Epoch: 19 Batch: 0 Correctas: 454 Loss: 0.2806093096733093\n",
            "Epoch: 19 Batch: 0 Correctas: 470 Loss: 0.21983887255191803\n",
            "Epoch: 19 Batch: 0 Correctas: 460 Loss: 0.25013235211372375\n",
            "Epoch: 19 Batch: 0 Correctas: 459 Loss: 0.27978450059890747\n",
            "Epoch: 19 Batch: 0 Correctas: 463 Loss: 0.26174357533454895\n",
            "Epoch: 19 Batch: 0 Correctas: 456 Loss: 0.28875085711479187\n",
            "Epoch: 19 Batch: 0 Correctas: 460 Loss: 0.26732394099235535\n",
            "Epoch: 19 Batch: 0 Correctas: 460 Loss: 0.26929306983947754\n",
            "Epoch: 19 Batch: 0 Correctas: 462 Loss: 0.22905851900577545\n",
            "Epoch: 19 Batch: 0 Correctas: 475 Loss: 0.25162771344184875\n",
            "Epoch: 19 Batch: 0 Correctas: 472 Loss: 0.22193339467048645\n",
            "Epoch: 19 Batch: 0 Correctas: 465 Loss: 0.26481685042381287\n",
            "Epoch: 19 Batch: 0 Correctas: 88 Loss: 0.1812564581632614\n",
            "Total de Correctas: 7016\n"
          ],
          "name": "stdout"
        }
      ]
    },
    {
      "cell_type": "code",
      "metadata": {
        "id": "6MRmPINt_YQQ",
        "colab_type": "code",
        "colab": {
          "base_uri": "https://localhost:8080/",
          "height": 34
        },
        "outputId": "39db01be-6df2-4b00-e092-36c1fe15a946"
      },
      "source": [
        "def checkpointModel():\n",
        "    torch.save(model.state_dict(), \"bestModel.model\")\n",
        "    print(\"Checkpoint saved\")\n",
        "checkpointModel() "
      ],
      "execution_count": 8,
      "outputs": [
        {
          "output_type": "stream",
          "text": [
            "Checkpoint saved\n"
          ],
          "name": "stdout"
        }
      ]
    },
    {
      "cell_type": "code",
      "metadata": {
        "id": "meaSpEkhy5Lj",
        "colab_type": "code",
        "colab": {}
      },
      "source": [
        "model_weights = torch.load(\"bestModel.model\", map_location={'cuda:0': 'cpu', 'cuda:1' : 'cpu'})\n",
        "def dibujarFiltritos(capa):\n",
        "  fig = plt.figure()\n",
        "  plt.figure(figsize=(8,8))\n",
        "  for i, filtro  in enumerate(model_weights[capa]):\n",
        "      #print(filt[0, :, :])\n",
        "      plt.subplot(8,8, i + 1)\n",
        "      plt.imshow(filtro[0, :, :])\n",
        "      plt.axis('off')\n",
        "  fig.show()"
      ],
      "execution_count": 0,
      "outputs": []
    },
    {
      "cell_type": "markdown",
      "metadata": {
        "id": "Am_wgGkMxxhT",
        "colab_type": "text"
      },
      "source": [
        "## Filter Conv1"
      ]
    },
    {
      "cell_type": "code",
      "metadata": {
        "id": "4R-JTtxHAniK",
        "colab_type": "code",
        "colab": {
          "base_uri": "https://localhost:8080/",
          "height": 167
        },
        "outputId": "78f4529b-e154-4a3d-be95-7d7503cbdea5"
      },
      "source": [
        "dibujarFiltritos('conv1.weight')"
      ],
      "execution_count": 10,
      "outputs": [
        {
          "output_type": "display_data",
          "data": {
            "text/plain": [
              "<Figure size 432x288 with 0 Axes>"
            ]
          },
          "metadata": {
            "tags": []
          }
        },
        {
          "output_type": "display_data",
          "data": {
            "image/png": "[encoded data removed]",
            "text/plain": [
              "<Figure size 576x576 with 16 Axes>"
            ]
          },
          "metadata": {
            "tags": []
          }
        }
      ]
    },
    {
      "cell_type": "markdown",
      "metadata": {
        "id": "BYH91qlmzTg0",
        "colab_type": "text"
      },
      "source": [
        "## Filter Conv2"
      ]
    },
    {
      "cell_type": "code",
      "metadata": {
        "id": "RQxYVGb0zXHG",
        "colab_type": "code",
        "colab": {
          "base_uri": "https://localhost:8080/",
          "height": 278
        },
        "outputId": "e285e22a-b67b-4b8e-ed92-46c353690346"
      },
      "source": [
        "dibujarFiltritos('conv2.weight')"
      ],
      "execution_count": 11,
      "outputs": [
        {
          "output_type": "display_data",
          "data": {
            "text/plain": [
              "<Figure size 432x288 with 0 Axes>"
            ]
          },
          "metadata": {
            "tags": []
          }
        },
        {
          "output_type": "display_data",
          "data": {
            "image/png": "[encoded data removed]",
            "text/plain": [
              "<Figure size 576x576 with 32 Axes>"
            ]
          },
          "metadata": {
            "tags": []
          }
        }
      ]
    },
    {
      "cell_type": "code",
      "metadata": {
        "id": "UnzaV_0CH47h",
        "colab_type": "code",
        "colab": {
          "base_uri": "https://localhost:8080/",
          "height": 350
        },
        "outputId": "6b7d476f-63eb-4784-ed7e-6118835fb3d8"
      },
      "source": [
        "fig,ax = plt.subplots(figsize=(5,5))\n",
        "ax.set_ylabel('error')\n",
        "ax.set_xlabel('Iterations')\n",
        "ax.set_title('Comportamiento de Error')\n",
        "_=ax.plot(range(len(errores)),errores,'g')"
      ],
      "execution_count": 13,
      "outputs": [
        {
          "output_type": "display_data",
          "data": {
            "image/png": "[encoded data removed]",
            "text/plain": [
              "<Figure size 360x360 with 1 Axes>"
            ]
          },
          "metadata": {
            "tags": []
          }
        }
      ]
    },
    {
      "cell_type": "markdown",
      "metadata": {
        "id": "J-BR-Oe4H_L5",
        "colab_type": "text"
      },
      "source": [
        "## Conclusiones\n",
        "\n",
        "\n",
        "*   La librería de torchvisón es muy buena para el manejo de imágenes como data y carpetas como labeles\n",
        "*   Se utiliza la librería functional para operar las funciones de activación como tensores en las capas de max pooling.\n",
        "*   Max Pooling nos sirve para comprimir y resumir \n",
        "*   La optimización se hace por medio de cross entropy por la diferencia de tamaños de las Y\n",
        "\n",
        "\n"
      ]
    }
  ]
}