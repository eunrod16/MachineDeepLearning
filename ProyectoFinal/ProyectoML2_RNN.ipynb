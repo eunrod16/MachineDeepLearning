{
  "nbformat": 4,
  "nbformat_minor": 0,
  "metadata": {
    "colab": {
      "name": "ProyectoML2-RNN",
      "provenance": [],
      "collapsed_sections": [],
      "machine_shape": "hm",
      "include_colab_link": true
    },
    "kernelspec": {
      "name": "python3",
      "display_name": "Python 3"
    }
  },
  "cells": [
    {
      "cell_type": "markdown",
      "metadata": {
        "id": "view-in-github",
        "colab_type": "text"
      },
      "source": [
        "<a href=\"https://colab.research.google.com/github/eunrod16/MachineDeepLearning/blob/master/ProyectoML2_RNN.ipynb\" target=\"_parent\"><img src=\"https://colab.research.google.com/assets/colab-badge.svg\" alt=\"Open In Colab\"/></a>"
      ]
    },
    {
      "cell_type": "code",
      "metadata": {
        "id": "RllXM3_pvHjE",
        "colab_type": "code",
        "colab": {
          "base_uri": "https://localhost:8080/",
          "height": 34
        },
        "outputId": "7f12f4fb-073c-4bc8-c553-a0901a9901b3"
      },
      "source": [
        "from google.colab import drive\n",
        "drive.mount('/content/drive')"
      ],
      "execution_count": 1,
      "outputs": [
        {
          "output_type": "stream",
          "text": [
            "Drive already mounted at /content/drive; to attempt to forcibly remount, call drive.mount(\"/content/drive\", force_remount=True).\n"
          ],
          "name": "stdout"
        }
      ]
    },
    {
      "cell_type": "markdown",
      "metadata": {
        "id": "tsYzp6-yUdrx",
        "colab_type": "text"
      },
      "source": [
        "## Data Sentiment Analysis Financial Tweets\n",
        "El problema es realizar un análisis de sentimiento con tweets financieros, se limito a 0 y 1 (positivos y negativos)"
      ]
    },
    {
      "cell_type": "code",
      "metadata": {
        "id": "G4zLeK3NvQ-u",
        "colab_type": "code",
        "outputId": "b2590c20-44c9-46c1-c5e7-6ba268167cab",
        "colab": {
          "base_uri": "https://localhost:8080/",
          "height": 297
        }
      },
      "source": [
        "import pandas as pd \n",
        "import numpy as np\n",
        "import matplotlib.pyplot as plt\n",
        "import seaborn as sns\n",
        "data = pd.read_csv(\"/content/drive/My Drive/tweet_sentiment.csv\", encoding='latin-1') \n",
        "data.head()\n",
        "data = data.fillna('')\n",
        "data = data[data.sentiment != 0]\n",
        "data.sentiment[data.sentiment == -1] = 0\n",
        "data.describe()"
      ],
      "execution_count": 2,
      "outputs": [
        {
          "output_type": "execute_result",
          "data": {
            "text/html": [
              "<div>\n",
              "<style scoped>\n",
              "    .dataframe tbody tr th:only-of-type {\n",
              "        vertical-align: middle;\n",
              "    }\n",
              "\n",
              "    .dataframe tbody tr th {\n",
              "        vertical-align: top;\n",
              "    }\n",
              "\n",
              "    .dataframe thead th {\n",
              "        text-align: right;\n",
              "    }\n",
              "</style>\n",
              "<table border=\"1\" class=\"dataframe\">\n",
              "  <thead>\n",
              "    <tr style=\"text-align: right;\">\n",
              "      <th></th>\n",
              "      <th>sentiment</th>\n",
              "    </tr>\n",
              "  </thead>\n",
              "  <tbody>\n",
              "    <tr>\n",
              "      <th>count</th>\n",
              "      <td>11110.000000</td>\n",
              "    </tr>\n",
              "    <tr>\n",
              "      <th>mean</th>\n",
              "      <td>0.766157</td>\n",
              "    </tr>\n",
              "    <tr>\n",
              "      <th>std</th>\n",
              "      <td>0.423293</td>\n",
              "    </tr>\n",
              "    <tr>\n",
              "      <th>min</th>\n",
              "      <td>0.000000</td>\n",
              "    </tr>\n",
              "    <tr>\n",
              "      <th>25%</th>\n",
              "      <td>1.000000</td>\n",
              "    </tr>\n",
              "    <tr>\n",
              "      <th>50%</th>\n",
              "      <td>1.000000</td>\n",
              "    </tr>\n",
              "    <tr>\n",
              "      <th>75%</th>\n",
              "      <td>1.000000</td>\n",
              "    </tr>\n",
              "    <tr>\n",
              "      <th>max</th>\n",
              "      <td>1.000000</td>\n",
              "    </tr>\n",
              "  </tbody>\n",
              "</table>\n",
              "</div>"
            ],
            "text/plain": [
              "          sentiment\n",
              "count  11110.000000\n",
              "mean       0.766157\n",
              "std        0.423293\n",
              "min        0.000000\n",
              "25%        1.000000\n",
              "50%        1.000000\n",
              "75%        1.000000\n",
              "max        1.000000"
            ]
          },
          "metadata": {
            "tags": []
          },
          "execution_count": 2
        }
      ]
    },
    {
      "cell_type": "markdown",
      "metadata": {
        "id": "jeXzpk4_U5L9",
        "colab_type": "text"
      },
      "source": [
        "## Tokenizer y Pad Sequences"
      ]
    },
    {
      "cell_type": "code",
      "metadata": {
        "id": "ocNNsDbumP7_",
        "colab_type": "code",
        "outputId": "9b876f4d-2700-4054-869b-97b8247d4244",
        "colab": {
          "base_uri": "https://localhost:8080/",
          "height": 153
        }
      },
      "source": [
        "\n",
        "X, y = (data['cleaned_tweets'].values, data['sentiment'].values)\n",
        "from keras.preprocessing.text import Tokenizer\n",
        "from keras.preprocessing.sequence import pad_sequences\n",
        "tk = Tokenizer()\n",
        "tk.fit_on_texts(X)\n",
        "X_seq = tk.texts_to_sequences(X)\n",
        "X_pad = pad_sequences(X_seq, maxlen=100, padding='post')\n",
        "from sklearn.model_selection import train_test_split\n",
        "X_train, X_test, y_train, y_test = train_test_split(X_pad, y, test_size = 0.25, random_state = 1)\n",
        "vocab_size = len(tk.word_counts.keys())+1\n",
        "np.array(X_train)"
      ],
      "execution_count": 3,
      "outputs": [
        {
          "output_type": "stream",
          "text": [
            "Using TensorFlow backend.\n"
          ],
          "name": "stderr"
        },
        {
          "output_type": "execute_result",
          "data": {
            "text/plain": [
              "array([[   1, 1151,   38, ...,    0,    0,    0],\n",
              "       [ 653,  305,  135, ...,    0,    0,    0],\n",
              "       [1756,    6,  112, ...,    0,    0,    0],\n",
              "       ...,\n",
              "       [   1, 2060,  753, ...,    0,    0,    0],\n",
              "       [1440,   39, 1441, ...,    0,    0,    0],\n",
              "       [1328, 1945, 3433, ...,    0,    0,    0]], dtype=int32)"
            ]
          },
          "metadata": {
            "tags": []
          },
          "execution_count": 3
        }
      ]
    },
    {
      "cell_type": "markdown",
      "metadata": {
        "id": "uaEcHaBBVE-Q",
        "colab_type": "text"
      },
      "source": [
        "## RNN con LSTM"
      ]
    },
    {
      "cell_type": "code",
      "metadata": {
        "id": "wAUE4mUds4zf",
        "colab_type": "code",
        "colab": {}
      },
      "source": [
        "import torch\n",
        "from torch.utils.data import DataLoader, TensorDataset\n",
        "from torch import optim\n",
        "from torch import nn\n",
        "train_data = TensorDataset(torch.from_numpy(X_train).long(), torch.from_numpy(y_train).long())\n",
        "test_data = TensorDataset(torch.from_numpy(X_test).long(), torch.from_numpy(y_test).long())\n",
        "\n",
        "batchSize = 500\n",
        "train_loader = DataLoader(train_data, batch_size = batchSize, shuffle = True)\n",
        "test_loader = DataLoader(test_data, batch_size = batchSize, shuffle = True)"
      ],
      "execution_count": 0,
      "outputs": []
    },
    {
      "cell_type": "code",
      "metadata": {
        "id": "hVZmkV8cRyQ5",
        "colab_type": "code",
        "colab": {}
      },
      "source": [
        "def checkpointModel():\n",
        "    torch.save(model.state_dict(), \"bestModel.model\")\n",
        "    print(\"Checkpoint saved\")"
      ],
      "execution_count": 0,
      "outputs": []
    },
    {
      "cell_type": "code",
      "metadata": {
        "id": "xyKkwO_sXM3m",
        "colab_type": "code",
        "colab": {}
      },
      "source": [
        "def accuracy(y_hat, y):\n",
        "    y_hat = torch.round(torch.sigmoid(y_hat))\n",
        "    correct = (y_hat == y).float() \n",
        "    acc = correct.sum() / len(correct)\n",
        "    return acc"
      ],
      "execution_count": 0,
      "outputs": []
    },
    {
      "cell_type": "code",
      "metadata": {
        "id": "XHfBlo4gtYX1",
        "colab_type": "code",
        "colab": {}
      },
      "source": [
        "\n",
        "\n",
        "class LSTM(nn.Module):\n",
        "    \n",
        "    def __init__(self, inputs, embedings, hiddens, outputs, layers, drop_p = 0.5):\n",
        "        super().__init__()\n",
        "        self.inputs = inputs   \n",
        "        self.layers = layers  \n",
        "        self.hiddens = hiddens      \n",
        "        self.embedding = nn.Embedding(inputs, embedings)\n",
        "        self.lstm = nn.LSTM(embedings, hiddens, layers, batch_first = True, dropout = drop_p)\n",
        "        self.dropout = nn.Dropout(drop_p)\n",
        "        self.H = nn.Linear(hiddens, outputs)\n",
        "        self.sigmoid = nn.Sigmoid()\n",
        "        \n",
        "        \n",
        "    def forward (self, wordsInput):\n",
        "                          \n",
        "        embeds = self.embedding(wordsInput)   \n",
        "        out, h = self.lstm(embeds)       \n",
        "        out = self.dropout(out)\n",
        "        size = out.shape[0]\n",
        "        out = self.H(out.contiguous().view(-1, self.hiddens) )                    \n",
        "        out = self.sigmoid(out) \n",
        "        out = out.view(size, -1)       \n",
        "        out = out[:, -1]                 \n",
        "        return out, h\n",
        "    \n",
        "    \n",
        "    def init_hidden (self, batchSize): \n",
        "        w = next(self.parameters()).data\n",
        "        h = (w.new(self.layers, batchSize, self.hiddens).zero_().to(\"cpu\"),  #fill weights with zeros\n",
        "             w.new(self.layers, batchSize, self.hiddens).zero_().to(\"cpu\"))\n",
        "        \n",
        "        return h"
      ],
      "execution_count": 0,
      "outputs": []
    },
    {
      "cell_type": "code",
      "metadata": {
        "id": "AEnJwpJkI47W",
        "colab_type": "code",
        "colab": {}
      },
      "source": [
        "def initModel():\n",
        "  inputs = vocab_size\n",
        "  embeds = 400\n",
        "  hiddens = 512\n",
        "  outputs = 1  \n",
        "  layers = 2\n",
        "\n",
        "  model = LSTM(inputs, embeds, hiddens, outputs, layers)\n",
        "  return model"
      ],
      "execution_count": 0,
      "outputs": []
    },
    {
      "cell_type": "markdown",
      "metadata": {
        "id": "742OBbBJVSdA",
        "colab_type": "text"
      },
      "source": [
        "## Entrenamiento"
      ]
    },
    {
      "cell_type": "code",
      "metadata": {
        "id": "FH_i3EnpMqeI",
        "colab_type": "code",
        "colab": {
          "base_uri": "https://localhost:8080/",
          "height": 649
        },
        "outputId": "158e1665-0cda-464f-8b25-776d87182c43"
      },
      "source": [
        "model = initModel()\n",
        "model.train()\n",
        "criterion = nn.BCELoss()\n",
        "optimizer = optim.Adam(model.parameters(), lr = 0.01)\n",
        "epochs = 2\n",
        "clip = 5\n",
        "errores = []\n",
        "for epoch in range(epochs):\n",
        "    h = model.init_hidden(batchSize)\n",
        "    batch = 0\n",
        "    for inputs, labels in train_loader:\n",
        "        batch += 1\n",
        "        inputs, labels = inputs.to('cpu'), labels.to('cpu')\n",
        "        h = tuple([each.data for each in h])   \n",
        "        \n",
        "        model.zero_grad()\n",
        "        y_hat, h = model(inputs)\n",
        "\n",
        "        if(y_hat.shape==labels.shape):\n",
        "          loss = criterion(y_hat.squeeze(), labels.float())\n",
        "          acc = accuracy(y_hat.squeeze(), labels.float())\n",
        "          loss.backward(retain_graph=True)\n",
        "        nn.utils.clip_grad_norm(model.parameters(), clip)\n",
        "        optimizer.step()\n",
        "        errores.append(loss.item())\n",
        "        print(\"Epoch: {}\".format((epoch+1)),\n",
        "                  \"Batch: {}\".format(batch),\n",
        "                  \"Training Loss: {:.4f}\".format(loss.item()),\n",
        "                  \"Accuracy: {:.4f}\".format(acc))\n",
        "checkpointModel()    \n"
      ],
      "execution_count": 9,
      "outputs": [
        {
          "output_type": "stream",
          "text": [
            "/usr/local/lib/python3.6/dist-packages/ipykernel_launcher.py:23: UserWarning: torch.nn.utils.clip_grad_norm is now deprecated in favor of torch.nn.utils.clip_grad_norm_.\n"
          ],
          "name": "stderr"
        },
        {
          "output_type": "stream",
          "text": [
            "Epoch: 1 Batch: 1 Training Loss: 0.6746 Accuracy: 0.7880\n",
            "Epoch: 1 Batch: 2 Training Loss: 2.0529 Accuracy: 0.7400\n",
            "Epoch: 1 Batch: 3 Training Loss: 1.0087 Accuracy: 0.7740\n",
            "Epoch: 1 Batch: 4 Training Loss: 0.6111 Accuracy: 0.7240\n",
            "Epoch: 1 Batch: 5 Training Loss: 0.6633 Accuracy: 0.7720\n",
            "Epoch: 1 Batch: 6 Training Loss: 0.6352 Accuracy: 0.7480\n",
            "Epoch: 1 Batch: 7 Training Loss: 0.5749 Accuracy: 0.7980\n",
            "Epoch: 1 Batch: 8 Training Loss: 0.5470 Accuracy: 0.7820\n",
            "Epoch: 1 Batch: 9 Training Loss: 0.5330 Accuracy: 0.7800\n",
            "Epoch: 1 Batch: 10 Training Loss: 0.5108 Accuracy: 0.7920\n",
            "Epoch: 1 Batch: 11 Training Loss: 0.5387 Accuracy: 0.7800\n",
            "Epoch: 1 Batch: 12 Training Loss: 0.5752 Accuracy: 0.7600\n",
            "Epoch: 1 Batch: 13 Training Loss: 0.5730 Accuracy: 0.7640\n",
            "Epoch: 1 Batch: 14 Training Loss: 0.5757 Accuracy: 0.7600\n",
            "Epoch: 1 Batch: 15 Training Loss: 0.5630 Accuracy: 0.7620\n",
            "Epoch: 1 Batch: 16 Training Loss: 0.5473 Accuracy: 0.7720\n",
            "Epoch: 1 Batch: 17 Training Loss: 0.5511 Accuracy: 0.7681\n",
            "Epoch: 2 Batch: 1 Training Loss: 0.5608 Accuracy: 0.7520\n",
            "Epoch: 2 Batch: 2 Training Loss: 0.5581 Accuracy: 0.7620\n",
            "Epoch: 2 Batch: 3 Training Loss: 0.5682 Accuracy: 0.7520\n",
            "Epoch: 2 Batch: 4 Training Loss: 0.5241 Accuracy: 0.8060\n",
            "Epoch: 2 Batch: 5 Training Loss: 0.5492 Accuracy: 0.7700\n",
            "Epoch: 2 Batch: 6 Training Loss: 0.5475 Accuracy: 0.7740\n",
            "Epoch: 2 Batch: 7 Training Loss: 0.5203 Accuracy: 0.7880\n",
            "Epoch: 2 Batch: 8 Training Loss: 0.5709 Accuracy: 0.7500\n",
            "Epoch: 2 Batch: 9 Training Loss: 0.5278 Accuracy: 0.7860\n",
            "Epoch: 2 Batch: 10 Training Loss: 0.5288 Accuracy: 0.7840\n",
            "Epoch: 2 Batch: 11 Training Loss: 0.5727 Accuracy: 0.7520\n",
            "Epoch: 2 Batch: 12 Training Loss: 0.5618 Accuracy: 0.7640\n",
            "Epoch: 2 Batch: 13 Training Loss: 0.5657 Accuracy: 0.7540\n",
            "Epoch: 2 Batch: 14 Training Loss: 0.5220 Accuracy: 0.7900\n",
            "Epoch: 2 Batch: 15 Training Loss: 0.5688 Accuracy: 0.7520\n",
            "Epoch: 2 Batch: 16 Training Loss: 0.5569 Accuracy: 0.7580\n",
            "Epoch: 2 Batch: 17 Training Loss: 0.5417 Accuracy: 0.7711\n",
            "Checkpoint saved\n"
          ],
          "name": "stdout"
        }
      ]
    },
    {
      "cell_type": "code",
      "metadata": {
        "id": "Pj8hlqjLSZST",
        "colab_type": "code",
        "colab": {
          "base_uri": "https://localhost:8080/",
          "height": 136
        },
        "outputId": "60bbb9d7-0c2c-45bc-ddb9-973f6203730b"
      },
      "source": [
        "checkpoint = torch.load(\"bestModel.model\")\n",
        "model = initModel()\n",
        "model.load_state_dict(checkpoint)\n",
        "model.eval()"
      ],
      "execution_count": 10,
      "outputs": [
        {
          "output_type": "execute_result",
          "data": {
            "text/plain": [
              "LSTM(\n",
              "  (embedding): Embedding(9497, 400)\n",
              "  (lstm): LSTM(400, 512, num_layers=2, batch_first=True, dropout=0.5)\n",
              "  (dropout): Dropout(p=0.5, inplace=False)\n",
              "  (H): Linear(in_features=512, out_features=1, bias=True)\n",
              "  (sigmoid): Sigmoid()\n",
              ")"
            ]
          },
          "metadata": {
            "tags": []
          },
          "execution_count": 10
        }
      ]
    },
    {
      "cell_type": "code",
      "metadata": {
        "id": "0l2WYJ5a_xzE",
        "colab_type": "code",
        "colab": {}
      },
      "source": [
        ""
      ],
      "execution_count": 0,
      "outputs": []
    },
    {
      "cell_type": "markdown",
      "metadata": {
        "id": "46jaQFU7V-nA",
        "colab_type": "text"
      },
      "source": [
        "## Evaluación"
      ]
    },
    {
      "cell_type": "code",
      "metadata": {
        "id": "uGCRkZHQWGjf",
        "colab_type": "code",
        "colab": {}
      },
      "source": [
        "from sklearn.metrics import f1_score"
      ],
      "execution_count": 0,
      "outputs": []
    },
    {
      "cell_type": "code",
      "metadata": {
        "id": "sKeJsQRSsqZ4",
        "colab_type": "code",
        "colab": {
          "base_uri": "https://localhost:8080/",
          "height": 88
        },
        "outputId": "1f3a6f43-9fc4-47e9-d0d6-9138307499ec"
      },
      "source": [
        "\n",
        "lossesMean = []\n",
        "h = model.init_hidden(batchSize)\n",
        "\n",
        "for inputs, labels in test_loader:\n",
        "    h = tuple([each.data for each in h])\n",
        "    y_hat, h = model(inputs)\n",
        "    if(y_hat.shape==labels.shape): \n",
        "      loss = criterion(y_hat, labels.float())\n",
        "      lossesMean.append(loss.item())\n",
        "      acc = accuracy(y_hat.squeeze(), labels.float())\n",
        "    \n",
        "print(\"Loss: {:.4f}\".format(np.mean(lossesMean)),\n",
        "      \"Accuracy: {:.2f}\".format(acc),\n",
        "     ' F1 Score: {}'.format(f1_score(y_hat.squeeze().detach().numpy()> 0.5, labels.detach().numpy(), average='macro')  ))\n",
        "\n"
      ],
      "execution_count": 12,
      "outputs": [
        {
          "output_type": "stream",
          "text": [
            "Loss: 0.5568 Accuracy: 0.75  F1 Score: 0.4279835390946502\n"
          ],
          "name": "stdout"
        },
        {
          "output_type": "stream",
          "text": [
            "/usr/local/lib/python3.6/dist-packages/sklearn/metrics/classification.py:1439: UndefinedMetricWarning: F-score is ill-defined and being set to 0.0 in labels with no true samples.\n",
            "  'recall', 'true', average, warn_for)\n"
          ],
          "name": "stderr"
        }
      ]
    },
    {
      "cell_type": "code",
      "metadata": {
        "id": "y1lGhr-0ZIie",
        "colab_type": "code",
        "colab": {
          "base_uri": "https://localhost:8080/",
          "height": 350
        },
        "outputId": "28dac678-3f5c-4a58-ee4f-1f0f82d756fd"
      },
      "source": [
        "fig,ax = plt.subplots(figsize=(5,5))\n",
        "ax.set_ylabel('error')\n",
        "ax.set_xlabel('Iterations')\n",
        "ax.set_title('Comportamiento de Error')\n",
        "_=ax.plot(range(len(errores)),errores,'g')"
      ],
      "execution_count": 13,
      "outputs": [
        {
          "output_type": "display_data",
          "data": {
            "image/png": "[encoded data removed]",
            "text/plain": [
              "<Figure size 360x360 with 1 Axes>"
            ]
          },
          "metadata": {
            "tags": []
          }
        }
      ]
    },
    {
      "cell_type": "markdown",
      "metadata": {
        "id": "0zpEYIWUexNr",
        "colab_type": "text"
      },
      "source": [
        "## Conclusiones\n",
        "\n",
        "\n",
        "*   Se necesitan una buena cantidad de data para que el algoritmo pueda aprender.\n",
        "*   LSTM es utilizado para la resolución de esyte problema por su propiedad de trabajar con memoria.\n",
        "*   Se realiza tokenizer y pad sequences para obtener un vector de las palabras y así con ello poder trabajar.\n",
        "*   De igual manera se realiza word embeding que es un tipo vector diccionario como capa del modelo.\n",
        "*   Es nececario regulalizarlo con dropout para mejores resultados.\n",
        "*   Sigmoid es excelente como función de activación en capa final.\n",
        "\n"
      ]
    }
  ]
}