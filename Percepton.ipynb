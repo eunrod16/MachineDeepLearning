{
 "cells": [
  {
   "cell_type": "code",
   "execution_count": 1,
   "metadata": {},
   "outputs": [],
   "source": [
    "import pandas as pd \n",
    "import numpy as np"
   ]
  },
  {
   "cell_type": "code",
   "execution_count": 148,
   "metadata": {
    "scrolled": true
   },
   "outputs": [],
   "source": [
    "data = pd.read_csv(\"data.csv\") \n",
    "data.head()\n",
    "subset = data[['x1', 'x2']]\n",
    "_input = np.array(subset)\n",
    "subset = data[['label']]\n",
    "_label = np.array(data['label'])"
   ]
  },
  {
   "cell_type": "code",
   "execution_count": 152,
   "metadata": {},
   "outputs": [
    {
     "name": "stdout",
     "output_type": "stream",
     "text": [
      "                                          prediction  \\\n",
      "0  [1, 1, 1, 1, 1, 1, 0, 1, 1, 0, 0, 1, 0, 1, 0, ...   \n",
      "\n",
      "                                               label  \n",
      "0  [1, 1, 1, 1, 1, 1, 0, 1, 1, 0, 0, 1, 0, 1, 0, ...  \n"
     ]
    }
   ],
   "source": [
    "def predict(inputs,weights,b):\n",
    "    Z = np.dot(inputs, weights)+b\n",
    "    return (Z > 0).astype(int)\n",
    "\n",
    "def entrenamiento(_input, _label):\n",
    "    learning_rate = 0.001\n",
    "    weights = [0, -0.234]\n",
    "    b = 0.01\n",
    "    for i in range(100):\n",
    "        inputs = _input\n",
    "        label = _label\n",
    "        prediction = predict(inputs,weights,b)\n",
    "        b = b + np.sum(learning_rate*(label - prediction))\n",
    "        weights[0] = weights[0]+np.sum(learning_rate*np.dot(inputs.T,(label - prediction)))\n",
    "        weights[1] = weights[1]+np.sum(learning_rate*np.dot(inputs.T,(label - prediction)))\n",
    "        #rint(weights,b)\n",
    "    df = pd.DataFrame({'prediction':[prediction], 'label':[label]})\n",
    "    print(df)\n",
    "entrenamiento(_input,_label)"
   ]
  },
  {
   "cell_type": "code",
   "execution_count": null,
   "metadata": {},
   "outputs": [],
   "source": []
  },
  {
   "cell_type": "code",
   "execution_count": null,
   "metadata": {},
   "outputs": [],
   "source": []
  },
  {
   "cell_type": "code",
   "execution_count": null,
   "metadata": {},
   "outputs": [],
   "source": []
  },
  {
   "cell_type": "code",
   "execution_count": null,
   "metadata": {},
   "outputs": [],
   "source": []
  }
 ],
 "metadata": {
  "kernelspec": {
   "display_name": "Python 3",
   "language": "python",
   "name": "python3"
  },
  "language_info": {
   "codemirror_mode": {
    "name": "ipython",
    "version": 3
   },
   "file_extension": ".py",
   "mimetype": "text/x-python",
   "name": "python",
   "nbconvert_exporter": "python",
   "pygments_lexer": "ipython3",
   "version": "3.7.3"
  }
 },
 "nbformat": 4,
 "nbformat_minor": 2
}
